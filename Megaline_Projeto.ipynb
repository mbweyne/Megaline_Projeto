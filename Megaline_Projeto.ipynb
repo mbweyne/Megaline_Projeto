{
  "nbformat": 4,
  "nbformat_minor": 0,
  "metadata": {
    "colab": {
      "provenance": []
    },
    "kernelspec": {
      "name": "python3",
      "display_name": "Python 3"
    },
    "language_info": {
      "name": "python"
    }
  },
  "cells": [
    {
      "cell_type": "code",
      "execution_count": null,
      "metadata": {
        "id": "apYJMulSgSqm"
      },
      "outputs": [],
      "source": []
    },
    {
      "cell_type": "markdown",
      "source": [
        "# Projeto: Análise de Planos da Megaline"
      ],
      "metadata": {
        "id": "haeYMegQgToG"
      }
    },
    {
      "cell_type": "markdown",
      "source": [
        "## 1. Introdução"
      ],
      "metadata": {
        "id": "7gNeb2oKgwp1"
      }
    },
    {
      "cell_type": "markdown",
      "source": [
        "Vamos descobrir qual dos dois planos da Megaline (Surf ou Ultimate) gera mais dinheiro. Para isso, vamos analisar os dados de 500 clientes ao longo de 2018."
      ],
      "metadata": {
        "id": "7EPMyXluhKV-"
      }
    },
    {
      "cell_type": "markdown",
      "source": [
        "## 2. Abrindo os Arquivos e Olhando os Dados"
      ],
      "metadata": {
        "id": "W_cnWlLliHFp"
      }
    },
    {
      "cell_type": "code",
      "source": [
        "# Vamos usar bibliotecas para abrir os arquivos e dar uma olhada nos dados.\n",
        "\n",
        "import pandas as pd\n",
        "import numpy as np\n",
        "import matplotlib.pyplot as plt\n",
        "import seaborn as sns\n",
        "from scipy import stats\n",
        "import math\n",
        "\n",
        "sns.set(style=\"whitegrid\")"
      ],
      "metadata": {
        "id": "Inuo3HXUiNT1"
      },
      "execution_count": 51,
      "outputs": []
    },
    {
      "cell_type": "code",
      "source": [
        "# Carregando os arquivos de dados que serão usados no projeto\n",
        "\n",
        "df_calls = pd.read_csv('/content/megaline_calls.csv')\n",
        "df_internet = pd.read_csv('/content/megaline_internet.csv')\n",
        "df_messages = pd.read_csv('/content/megaline_messages.csv')\n",
        "df_plans = pd.read_csv('/content/megaline_plans.csv')\n",
        "df_users = pd.read_csv('/content/megaline_users.csv')"
      ],
      "metadata": {
        "id": "kGd0JJRGinzj"
      },
      "execution_count": 52,
      "outputs": []
    },
    {
      "cell_type": "code",
      "source": [
        "# Ver os primeiros dados de cada tabela\n",
        "print(df_calls.head())\n",
        "print(df_internet.head())\n",
        "print(df_messages.head())\n",
        "print(df_plans.head())\n",
        "print(df_users.head())"
      ],
      "metadata": {
        "colab": {
          "base_uri": "https://localhost:8080/"
        },
        "id": "IqoHDn93i1ga",
        "outputId": "2b92cb73-0685-401e-c582-3c5faf8d4e98"
      },
      "execution_count": 54,
      "outputs": [
        {
          "output_type": "stream",
          "name": "stdout",
          "text": [
            "         id  user_id   call_date  duration\n",
            "0   1000_93     1000  2018-12-27      8.52\n",
            "1  1000_145     1000  2018-12-27     13.66\n",
            "2  1000_247     1000  2018-12-27     14.48\n",
            "3  1000_309     1000  2018-12-28      5.76\n",
            "4  1000_380     1000  2018-12-30      4.22\n",
            "         id  user_id session_date  mb_used\n",
            "0   1000_13     1000   2018-12-29    89.86\n",
            "1  1000_204     1000   2018-12-31     0.00\n",
            "2  1000_379     1000   2018-12-28   660.40\n",
            "3  1000_413     1000   2018-12-26   270.99\n",
            "4  1000_442     1000   2018-12-27   880.22\n",
            "         id  user_id message_date\n",
            "0  1000_125     1000   2018-12-27\n",
            "1  1000_160     1000   2018-12-31\n",
            "2  1000_223     1000   2018-12-31\n",
            "3  1000_251     1000   2018-12-27\n",
            "4  1000_255     1000   2018-12-26\n",
            "   messages_included  mb_per_month_included  minutes_included  \\\n",
            "0                 50                  15360               500   \n",
            "1               1000                  30720              3000   \n",
            "\n",
            "   usd_monthly_pay  usd_per_gb  usd_per_message  usd_per_minute plan_name  \n",
            "0               20          10             0.03            0.03      surf  \n",
            "1               70           7             0.01            0.01  ultimate  \n",
            "   user_id first_name  last_name  age                                   city  \\\n",
            "0     1000   Anamaria      Bauer   45  Atlanta-Sandy Springs-Roswell, GA MSA   \n",
            "1     1001     Mickey  Wilkerson   28        Seattle-Tacoma-Bellevue, WA MSA   \n",
            "2     1002     Carlee    Hoffman   36   Las Vegas-Henderson-Paradise, NV MSA   \n",
            "3     1003   Reynaldo    Jenkins   52                          Tulsa, OK MSA   \n",
            "4     1004    Leonila   Thompson   40        Seattle-Tacoma-Bellevue, WA MSA   \n",
            "\n",
            "     reg_date      plan churn_date  \n",
            "0  2018-12-24  ultimate        NaN  \n",
            "1  2018-08-13      surf        NaN  \n",
            "2  2018-10-21      surf        NaN  \n",
            "3  2018-01-28      surf        NaN  \n",
            "4  2018-05-23      surf        NaN  \n"
          ]
        }
      ]
    },
    {
      "cell_type": "markdown",
      "source": [
        "## 3. Preparando os Dados"
      ],
      "metadata": {
        "id": "QaVqsbi7jXeS"
      }
    },
    {
      "cell_type": "markdown",
      "source": [
        "# Vamos organizar os dados por mês e por cliente."
      ],
      "metadata": {
        "id": "2RanW-DpnWvp"
      }
    },
    {
      "cell_type": "code",
      "source": [
        "# Corrigir tipo de data\n",
        "df_calls['call_date'] = pd.to_datetime(df_calls['call_date'])\n",
        "df_internet['session_date'] = pd.to_datetime(df_internet['session_date'])\n",
        "df_messages['message_date'] = pd.to_datetime(df_messages['message_date'])\n",
        "df_users['reg_date'] = pd.to_datetime(df_users['reg_date'])\n",
        "df_users['churn_date'] = pd.to_datetime(df_users['churn_date'])"
      ],
      "metadata": {
        "id": "qXq7BP93jZw1"
      },
      "execution_count": 55,
      "outputs": []
    },
    {
      "cell_type": "code",
      "source": [
        "# Criar coluna com mês.  Porque o projeto pede para analisar os dados por mês e por cliente\n",
        "df_calls['month'] = df_calls['call_date'].dt.month\n",
        "df_messages['month'] = df_messages['message_date'].dt.month\n",
        "df_internet['month'] = df_internet['session_date'].dt.month"
      ],
      "metadata": {
        "id": "IPvpNK-pjuGy"
      },
      "execution_count": 56,
      "outputs": []
    },
    {
      "cell_type": "code",
      "source": [
        "# Arredondar minutos para cima.   A Megaline cobra os minutos de ligação arredondados para cima.\n",
        "df_calls['duration'] = np.ceil(df_calls['duration']).astype(int)\n"
      ],
      "metadata": {
        "id": "Aomtxf06jxAE"
      },
      "execution_count": 57,
      "outputs": []
    },
    {
      "cell_type": "code",
      "source": [
        "# Somar total por mês e cliente\n",
        "internet_mensal = df_internet.groupby(['user_id', 'month'])['mb_used'].sum().reset_index()\n",
        "internet_mensal['gb_used'] = np.ceil(internet_mensal['mb_used'] / 1024)\n",
        "\n",
        "chamadas_mensal = df_calls.groupby(['user_id', 'month'])['duration'].sum().reset_index()\n",
        "mensagens_mensal = df_messages.groupby(['user_id', 'month'])['id'].count().reset_index().rename(columns={'id': 'messages'})\n",
        "\n"
      ],
      "metadata": {
        "id": "mxoPEeUnj-Wv"
      },
      "execution_count": 58,
      "outputs": []
    },
    {
      "cell_type": "code",
      "source": [
        "# Juntar tudo\n",
        "base = chamadas_mensal.merge(mensagens_mensal, on=['user_id', 'month'], how='outer')\n",
        "base = base.merge(internet_mensal[['user_id', 'month', 'gb_used']], on=['user_id', 'month'], how='outer')\n",
        "base = base.merge(df_users[['user_id', 'plan', 'city']], on='user_id', how='left')\n"
      ],
      "metadata": {
        "id": "TzTGXQ49kJND"
      },
      "execution_count": 59,
      "outputs": []
    },
    {
      "cell_type": "code",
      "source": [
        "base = base.fillna(0)\n",
        "base['duration'] = base['duration'].astype(int)\n",
        "base['messages'] = base['messages'].astype(int)\n"
      ],
      "metadata": {
        "id": "vKd5rkf6kZ1j"
      },
      "execution_count": 60,
      "outputs": []
    },
    {
      "cell_type": "code",
      "source": [
        "# Deixar nomes das colunas e planos sem espaços\n",
        "df_plans.columns = df_plans.columns.str.strip()\n",
        "df_plans['plan_name'] = df_plans['plan_name'].str.strip()\n",
        "base['plan'] = base['plan'].str.strip()\n"
      ],
      "metadata": {
        "id": "-YQO9Y4akd5O"
      },
      "execution_count": 61,
      "outputs": []
    },
    {
      "cell_type": "code",
      "source": [
        "# Corrigir nome da coluna ANTES do merge\n",
        "df_plans = df_plans.rename(columns={'usd_monthly_pay': 'usd_monthly_fee'})"
      ],
      "metadata": {
        "id": "PL4XI7_zv4OG"
      },
      "execution_count": 62,
      "outputs": []
    },
    {
      "cell_type": "code",
      "source": [
        "# Juntar os dados do plano com os dados dos clientes\n",
        "colunas_planos = ['plan_name', 'messages_included', 'mb_per_month_included', 'minutes_included', 'usd_monthly_fee', 'usd_per_gb', 'usd_per_message', 'usd_per_minute']\n",
        "base = base.merge(df_plans[colunas_planos], left_on='plan', right_on='plan_name', how='left')\n"
      ],
      "metadata": {
        "id": "Bhq1oFUwkmW9"
      },
      "execution_count": 63,
      "outputs": []
    },
    {
      "cell_type": "code",
      "source": [
        "# Calcular colunas extras\n",
        "base['min_exced'] = (base['duration'] - base['minutes_included']).clip(lower=0)\n",
        "base['msg_exced'] = (base['messages'] - base['messages_included']).clip(lower=0)\n",
        "base['gb_exced'] = (base['gb_used'] - (base['mb_per_month_included'] // 1024)).clip(lower=0)\n"
      ],
      "metadata": {
        "id": "8lTz8ZrCkraG"
      },
      "execution_count": 64,
      "outputs": []
    },
    {
      "cell_type": "code",
      "source": [
        "# Calcular receita\n",
        "base['revenue'] = (\n",
        "    base['usd_monthly_fee'] +\n",
        "    base['min_exced'] * base['usd_per_minute'] +\n",
        "    base['msg_exced'] * base['usd_per_message'] +\n",
        "    base['gb_exced'] * base['usd_per_gb']\n",
        ")"
      ],
      "metadata": {
        "id": "7fP31nu_k1kX"
      },
      "execution_count": 65,
      "outputs": []
    },
    {
      "cell_type": "markdown",
      "source": [
        "## 4. Explorando os Dados com Gráficos\n"
      ],
      "metadata": {
        "id": "gVYn4CCuovnI"
      }
    },
    {
      "cell_type": "markdown",
      "source": [
        "# Vamos ver gráficos para comparar os planos."
      ],
      "metadata": {
        "id": "FRJe30n-o1Vd"
      }
    },
    {
      "cell_type": "code",
      "source": [
        "print(base.groupby('plan')[['duration', 'messages', 'gb_used', 'revenue']].mean())"
      ],
      "metadata": {
        "colab": {
          "base_uri": "https://localhost:8080/"
        },
        "id": "scF8Cfhlo6Ov",
        "outputId": "49eada5e-4a4f-4437-9342-a8ec35dfc813"
      },
      "execution_count": 66,
      "outputs": [
        {
          "output_type": "stream",
          "name": "stdout",
          "text": [
            "            duration   messages    gb_used    revenue\n",
            "plan                                                 \n",
            "surf      428.749523  31.159568  16.670693  60.706408\n",
            "ultimate  430.450000  37.551389  17.306944  72.313889\n"
          ]
        }
      ]
    },
    {
      "cell_type": "code",
      "source": [
        "# Receita por plano\n",
        "plt.figure(figsize=(8, 4))\n",
        "sns.boxplot(x='plan', y='revenue', data=base)\n",
        "plt.title('Receita por Plano')\n",
        "plt.show()"
      ],
      "metadata": {
        "colab": {
          "base_uri": "https://localhost:8080/",
          "height": 419
        },
        "id": "M_lxOyovpB6V",
        "outputId": "c493661c-b42c-4b5a-9c4e-7ff132d8c45f"
      },
      "execution_count": 67,
      "outputs": [
        {
          "output_type": "display_data",
          "data": {
            "text/plain": [
              "<Figure size 800x400 with 1 Axes>"
            ],
            "image/png": "[encoded data removed]"
          },
          "metadata": {}
        }
      ]
    },
    {
      "cell_type": "markdown",
      "source": [
        "1. Plano Ultimate:\n",
        "A maioria dos pontos (clientes) está bem concentrada perto da mesma receita.\n",
        "\n",
        "Isso acontece porque o Ultimate tem uma mensalidade fixa alta ($70) e quase ninguém ultrapassa a franquia.\n",
        "\n",
        "Resultado: a receita é alta e constante.\n",
        "\n",
        "2. Plano Surf:\n",
        "A receita varia muito mais!\n",
        "\n",
        "Há clientes que pagam pouco (só o plano básico), mas muitos pagam bem mais — isso aparece como pontos acima da caixa (outliers).\n",
        "\n",
        "Isso mostra que muitos clientes extrapolam a franquia e geram receita extra.\n",
        "\n",
        "\n",
        "Comparando os dois:\n",
        "A mediana da receita no plano Ultimate (linha no meio da caixa) é maior do que a do Surf.\n",
        "\n",
        "Porém, o Surf tem mais variabilidade — ou seja, alguns clientes geram muito mais receita do que o valor básico.\n",
        "\n",
        "O Surf tem vários outliers (pontos altos), indicando que há clientes pagando até $500 ou mais por mês.\n",
        "\n"
      ],
      "metadata": {
        "id": "IYTGK5HM1Bgn"
      }
    },
    {
      "cell_type": "markdown",
      "source": [
        "Conclusão visual:\n",
        "O plano Ultimate gera uma receita mais estável e previsível por cliente.\n",
        "\n",
        "O plano Surf pode gerar mais receita em alguns casos, mas é mais imprevisível.\n",
        "\n",
        "Isso reforça a ideia de que o Ultimate é mais seguro, enquanto o Surf depende do consumo excedente.\n",
        "\n"
      ],
      "metadata": {
        "id": "Cv_4h0861buv"
      }
    },
    {
      "cell_type": "code",
      "source": [
        "# Internet por plano\n",
        "plt.figure(figsize=(8, 4))\n",
        "sns.boxplot(x='plan', y='gb_used', data=base)\n",
        "plt.title('Internet por Plano')\n",
        "plt.show()"
      ],
      "metadata": {
        "colab": {
          "base_uri": "https://localhost:8080/",
          "height": 419
        },
        "id": "H-WEJTfjpDiE",
        "outputId": "af4a4ff0-8cec-4a2d-cf1f-0b80b34abf20"
      },
      "execution_count": 68,
      "outputs": [
        {
          "output_type": "display_data",
          "data": {
            "text/plain": [
              "<Figure size 800x400 with 1 Axes>"
            ],
            "image/png": "[encoded data removed]"
          },
          "metadata": {}
        }
      ]
    },
    {
      "cell_type": "markdown",
      "source": [
        "Clientes de Surf usam quase tanto internet quanto os de Ultimate, mesmo com limite menor.\n",
        "\n",
        "Muitos clientes Surf ultrapassam a franquia e pagam por internet extra.\n",
        "\n",
        "O plano Ultimate, que oferece mais GB no pacote, protege melhor os clientes contra cobranças extras.\n",
        "\n"
      ],
      "metadata": {
        "id": "tSd_CAi-1-xv"
      }
    },
    {
      "cell_type": "markdown",
      "source": [
        " ## 5. Testes de Hipóteses"
      ],
      "metadata": {
        "id": "uwDqCgn8pK19"
      }
    },
    {
      "cell_type": "markdown",
      "source": [
        "# Vamos ver se as diferenças entre planos e cidades são reais."
      ],
      "metadata": {
        "id": "r8P2zVqGpRUr"
      }
    },
    {
      "cell_type": "markdown",
      "source": [
        "Vamos ver se as diferenças entre planos e cidades são reais.\n",
        "#\n",
        "# Primeiro, vamos comparar a receita média dos clientes dos planos Surf e Ultimate.\n",
        "# Se o p-valor do teste for bem pequeno (menor que 0.05), isso significa que a diferença de receita é real mesmo e não foi por sorte.\n",
        "#\n",
        "# Depois, vamos ver se a receita dos clientes da região NY-NJ é diferente dos clientes de outras regiões.\n",
        "# Também usaremos o p-valor para decidir se a diferença é significativa ou não."
      ],
      "metadata": {
        "id": "UcqvAklZ4Hrw"
      }
    },
    {
      "cell_type": "code",
      "source": [
        "surf = base[base['plan'] == 'surf']['revenue']\n",
        "ultimate = base[base['plan'] == 'ultimate']['revenue']\n",
        "print(\"Plano Surf vs Ultimate:\")\n",
        "print(stats.ttest_ind(surf, ultimate, equal_var=False))\n"
      ],
      "metadata": {
        "colab": {
          "base_uri": "https://localhost:8080/"
        },
        "id": "ltLwi3aZpWC8",
        "outputId": "25a745be-7161-4844-e74a-cac32947e447"
      },
      "execution_count": 69,
      "outputs": [
        {
          "output_type": "stream",
          "name": "stdout",
          "text": [
            "Plano Surf vs Ultimate:\n",
            "TtestResult(statistic=np.float64(-7.952094891333888), pvalue=np.float64(3.1703905481135738e-15), df=np.float64(1841.736266705638))\n"
          ]
        }
      ]
    },
    {
      "cell_type": "markdown",
      "source": [
        "Interpretação simples:\n",
        "Estatística do teste (statistic = -7.95)\n",
        "Isso indica que a média da receita do plano Surf é menor do que a do plano Ultimate.\n",
        "\n",
        "p-valor = 3.17e-15 (ou seja, 0.0000000000000317)\n",
        "É um valor muito menor que 0.05, o que significa:\n",
        "\n",
        "A diferença de receita não é por acaso — ela é estatisticamente significativa."
      ],
      "metadata": {
        "id": "iCXWs-nH5V7e"
      }
    },
    {
      "cell_type": "code",
      "source": [
        "ny = base[base['city'].str.contains(\"NY-NJ\")]['revenue']\n",
        "fora_ny = base[~base['city'].str.contains(\"NY-NJ\")]['revenue']\n",
        "print(\"\\nNY-NJ vs outras cidades:\")\n",
        "print(stats.ttest_ind(ny, fora_ny, equal_var=False))"
      ],
      "metadata": {
        "colab": {
          "base_uri": "https://localhost:8080/"
        },
        "id": "6-ViaD_QpcAk",
        "outputId": "0d5484eb-d44e-40ec-838f-ac8923e5a618"
      },
      "execution_count": 70,
      "outputs": [
        {
          "output_type": "stream",
          "name": "stdout",
          "text": [
            "\n",
            "NY-NJ vs outras cidades:\n",
            "TtestResult(statistic=np.float64(-2.1309454999502133), pvalue=np.float64(0.0335256158853001), df=np.float64(563.8399248656293))\n"
          ]
        }
      ]
    },
    {
      "cell_type": "markdown",
      "source": [
        " ## 6. Conclusão"
      ],
      "metadata": {
        "id": "YC_fe7Itpibm"
      }
    },
    {
      "cell_type": "markdown",
      "source": [
        "- O plano Ultimate dá mais receita.\n",
        "# - A diferença é significativa (não é sorte).\n",
        "# - A cidade não faz tanta diferença.\n",
        "# - A Megaline pode focar em divulgar o plano Ultimate.\n"
      ],
      "metadata": {
        "id": "bJjheUiMplOe"
      }
    }
  ]
}